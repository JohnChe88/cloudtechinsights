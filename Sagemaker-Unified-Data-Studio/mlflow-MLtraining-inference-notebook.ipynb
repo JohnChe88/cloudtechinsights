{
 "cells": [
  {
   "cell_type": "markdown",
   "id": "aa55c032-6dff-463b-8454-81f2af6ed78c",
   "metadata": {
    "execution": {
     "iopub.execute_input": "2024-12-13T21:42:21.428197Z",
     "iopub.status.busy": "2024-12-13T21:42:21.427623Z",
     "iopub.status.idle": "2024-12-13T21:42:21.432889Z",
     "shell.execute_reply": "2024-12-13T21:42:21.431798Z",
     "shell.execute_reply.started": "2024-12-13T21:42:21.428169Z"
    }
   },
   "source": [
    "# ML Data preparation,training and Inference using MLFlow\n"
   ]
  },
  {
   "cell_type": "code",
   "execution_count": null,
   "id": "d5b607da-b5cd-4861-8845-8ade170f7131",
   "metadata": {},
   "outputs": [],
   "source": [
    "!pip install --quiet mlflow==2.13.2 sagemaker-mlflow==0.1.0"
   ]
  },
  {
   "cell_type": "code",
   "execution_count": null,
   "id": "1dcc38ac-3298-40f8-9a86-c00a6a52ba6c",
   "metadata": {},
   "outputs": [],
   "source": [
    "from sagemaker_ui_helper import Project, ClientConfig\n",
    "import mlflow\n",
    "\n",
    "region='us-east-1'\n",
    "\n",
    "client_config = ClientConfig(region=region)\n",
    "project = Project(config=client_config)\n",
    "\n",
    "# Retrieve provisioned mlflow tracking server arn from the project\n",
    "tracking_server_arn = project.mlflow_tracking_server_arn\n",
    "\n",
    "tracking_server_arn\n",
    "\n",
    "mlflow.set_tracking_uri(tracking_server_arn) \n",
    "mlflow.set_experiment(\"SageMaker SDS learning series\")"
   ]
  },
  {
   "cell_type": "code",
   "execution_count": null,
   "id": "e776fea7-1c7c-473b-8f09-fa7aa700465c",
   "metadata": {},
   "outputs": [],
   "source": [
    "import sagemaker\n",
    "from sagemaker import get_execution_role\n",
    "from sagemaker.inputs import TrainingInput\n",
    "from sagemaker.estimator import Estimator\n",
    "import boto3\n",
    "import pandas as pd\n",
    "import numpy as np\n",
    "import os"
   ]
  },
  {
   "cell_type": "markdown",
   "id": "196394cb-92e2-4022-a1d2-4b83be635abc",
   "metadata": {
    "execution": {
     "iopub.execute_input": "2024-12-13T20:32:28.315033Z",
     "iopub.status.busy": "2024-12-13T20:32:28.314452Z",
     "iopub.status.idle": "2024-12-13T20:32:28.319314Z",
     "shell.execute_reply": "2024-12-13T20:32:28.317736Z",
     "shell.execute_reply.started": "2024-12-13T20:32:28.315006Z"
    }
   },
   "source": [
    "## Set up SageMaker execution role and session"
   ]
  },
  {
   "cell_type": "code",
   "execution_count": null,
   "id": "bd3b1a86-720d-4452-adbf-42e7b7284320",
   "metadata": {},
   "outputs": [],
   "source": [
    "\n",
    "role = get_execution_role()\n",
    "session = sagemaker.Session()\n",
    "bucket = session.default_bucket()  # Replace with your S3 bucket name if needed\n",
    "region = boto3.Session().region_name\n"
   ]
  },
  {
   "cell_type": "markdown",
   "id": "016a9b48-679a-4c58-8efa-a8cb38490c80",
   "metadata": {},
   "source": [
    "## Step 1: Generate synthetic training data"
   ]
  },
  {
   "cell_type": "code",
   "execution_count": null,
   "id": "e5ccedfe-66dc-48ec-9d6e-aafbcbe5e5a6",
   "metadata": {},
   "outputs": [],
   "source": [
    "\n",
    "np.random.seed(42)\n",
    "x = np.random.rand(100, 1) * 10  # Feature data\n",
    "noise = np.random.randn(100, 1)  # Noise to add randomness\n",
    "y = 2 * x + 3 + noise  # True relationship with some noise\n",
    "\n",
    "# Convert to DataFrame and save to CSV\n",
    "train_data = pd.DataFrame(np.hstack((y, x)), columns=[\"label\", \"feature_1\"])\n",
    "train_data_path = \"train.csv\"\n",
    "train_data.to_csv(train_data_path, index=False, header=False)\n",
    "\n",
    "mlflow.log_artifact(train_data_path)"
   ]
  },
  {
   "cell_type": "markdown",
   "id": "d9086833-3ce1-4380-a04d-47b1be13abc5",
   "metadata": {},
   "source": [
    "## Step 2: Upload training data to S3"
   ]
  },
  {
   "cell_type": "code",
   "execution_count": null,
   "id": "f8e4e45b-ddad-4cf4-b8e9-75bd7d6cc60d",
   "metadata": {},
   "outputs": [],
   "source": [
    "# Step 2: Use local training data path\n",
    "\n",
    "s3_train_path = 'your S3 path'\n",
    "session.upload_data(path=train_data_path, bucket='your S3 bucket', key_prefix='folder')\n",
    "print(f\"Training data uploaded to: {s3_train_path}\")\n",
    "\n",
    "mlflow.log_param(\"s3_train_path\", s3_train_path)"
   ]
  },
  {
   "cell_type": "markdown",
   "id": "3e3c7021-e40a-4309-8492-68146a39c88a",
   "metadata": {},
   "source": [
    "## Step 3: Set up the SageMaker Linear Learner estimator"
   ]
  },
  {
   "cell_type": "code",
   "execution_count": null,
   "id": "0522dca3-71b8-4c47-9328-e0bc4a0a7d2b",
   "metadata": {},
   "outputs": [],
   "source": [
    "linear_learner = Estimator(\n",
    "    image_uri=sagemaker.image_uris.retrieve('linear-learner', region),\n",
    "    role=role,\n",
    "    instance_count=1,\n",
    "    instance_type='ml.m5.large',  # Adjust as needed\n",
    "    output_path='your S3 path',\n",
    "    sagemaker_session=session\n",
    ")\n",
    "\n"
   ]
  },
  {
   "cell_type": "markdown",
   "id": "4f20c6ca-7326-4139-b85b-b272d457e91d",
   "metadata": {},
   "source": [
    "\n",
    "## Set hyperparameters for Linear Learner"
   ]
  },
  {
   "cell_type": "code",
   "execution_count": null,
   "id": "8e7ae3b7-204b-4fb1-b5fe-36c9d9122c90",
   "metadata": {},
   "outputs": [],
   "source": [
    "linear_learner.set_hyperparameters(\n",
    "    predictor_type='regressor',\n",
    "    mini_batch_size=10  # Or an appropriate value less than 100 (number of records)\n",
    "    \n",
    ")\n",
    "\n",
    "mlflow.log_params({\n",
    "    \"predictor_type\": 'regressor',\n",
    "    \"mini_batch_size\": 10\n",
    "})\n"
   ]
  },
  {
   "cell_type": "markdown",
   "id": "70b89cca-7712-4408-bc53-c8ea0021a8e7",
   "metadata": {},
   "source": [
    "## Step 4: Set up training input"
   ]
  },
  {
   "cell_type": "code",
   "execution_count": null,
   "id": "8248a55e-90cf-4e13-bf0a-b4392e91c2a7",
   "metadata": {},
   "outputs": [],
   "source": [
    "train_input = TrainingInput(\n",
    "    s3_data=s3_train_path,\n",
    "    content_type='text/csv'\n",
    ")"
   ]
  },
  {
   "cell_type": "markdown",
   "id": "5bb5209b-bade-48ef-97b6-f76e0e973be1",
   "metadata": {
    "execution": {
     "iopub.execute_input": "2024-12-13T20:38:05.425159Z",
     "iopub.status.busy": "2024-12-13T20:38:05.424831Z",
     "iopub.status.idle": "2024-12-13T20:38:05.428844Z",
     "shell.execute_reply": "2024-12-13T20:38:05.427874Z",
     "shell.execute_reply.started": "2024-12-13T20:38:05.425138Z"
    }
   },
   "source": [
    "## Step 5: Train the model"
   ]
  },
  {
   "cell_type": "code",
   "execution_count": null,
   "id": "f89379d4-da09-41a5-b50d-049c8b1e3329",
   "metadata": {},
   "outputs": [],
   "source": [
    "linear_learner.fit({'train': train_input})"
   ]
  },
  {
   "cell_type": "markdown",
   "id": "85485276-6b20-46a9-afc6-4e1d4d8351eb",
   "metadata": {},
   "source": [
    "## Step 6: Deploy the model to an endpoint for inference"
   ]
  },
  {
   "cell_type": "code",
   "execution_count": null,
   "id": "493e5cc4-c369-42ec-ab7f-2582ac5b1bdc",
   "metadata": {},
   "outputs": [],
   "source": [
    "predictor = linear_learner.deploy(\n",
    "    initial_instance_count=1,\n",
    "    instance_type='ml.m5.large'\n",
    ")"
   ]
  },
  {
   "cell_type": "markdown",
   "id": "613a08a7-5f57-41a0-b802-ddd93b6d3083",
   "metadata": {},
   "source": [
    "## Step 7: Make predictions using the deployed endpoint"
   ]
  },
  {
   "cell_type": "code",
   "execution_count": null,
   "id": "3454d32f-be0e-4469-8c92-d53d14506fb4",
   "metadata": {},
   "outputs": [],
   "source": [
    "import json\n",
    "import psutil \n",
    "\n",
    "test_data = [[6.5], [7.0], [8.5]]  # Test data for prediction\n",
    "\n",
    "# Pass the data to the predictor as a CSV payload\n",
    "payload = '\\n'.join([','.join(map(str, row)) for row in test_data])  # Convert list of lists to CSV-formatted string\n",
    "response = predictor.predict(payload, initial_args={'ContentType': 'text/csv'})  # Specify content-type as text/csv\n",
    "\n",
    "# Parse the predictions\n",
    "predictions = json.loads(response.decode('utf-8'))['predictions']\n",
    "print(\"Predictions:\", predictions)\n",
    "# Log predictions\n",
    "mlflow.log_metric(\"prediction_1\", predictions[0].get('score', None) if len(predictions) > 0 else None)\n",
    "mlflow.log_metric(\"prediction_2\", predictions[1].get('score', None) if len(predictions) > 1 else None)\n",
    "mlflow.log_metric(\"prediction_3\", predictions[2].get('score', None) if len(predictions) > 2 else None)\n",
    "\n",
    "\n",
    "# Log system metrics\n",
    "cpu_usage = psutil.cpu_percent(interval=1)\n",
    "memory_usage = psutil.virtual_memory().percent\n",
    "disk_usage = psutil.disk_usage('/').percent\n",
    "\n",
    "\n",
    "\n",
    "mlflow.log_metric(\"cpu_usage\", cpu_usage)\n",
    "mlflow.log_metric(\"memory_usage\", memory_usage)\n",
    "mlflow.log_metric(\"disk_usage\", disk_usage)\n",
    "    \n"
   ]
  },
  {
   "cell_type": "code",
   "execution_count": null,
   "id": "90c7c6d0-04d1-4cad-a1bc-a0c228be054e",
   "metadata": {},
   "outputs": [],
   "source": [
    "predictor.delete_endpoint()\n",
    "os.remove(train_data_path)\n",
    "\n",
    "print(\"SageMaker Linear Learner example completed successfully.\")"
   ]
  }
 ],
 "metadata": {
  "kernelspec": {
   "display_name": "Python 3 (ipykernel)",
   "language": "python",
   "name": "python3"
  },
  "language_info": {
   "codemirror_mode": {
    "name": "ipython",
    "version": 3
   },
   "file_extension": ".py",
   "mimetype": "text/x-python",
   "name": "python",
   "nbconvert_exporter": "python",
   "pygments_lexer": "ipython3",
   "version": "3.11.10"
  }
 },
 "nbformat": 4,
 "nbformat_minor": 5
}
