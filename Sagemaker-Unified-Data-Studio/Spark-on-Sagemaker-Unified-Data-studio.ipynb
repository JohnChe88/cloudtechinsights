{
 "cells": [
  {
   "cell_type": "code",
   "execution_count": 1,
   "id": "df1c3dab-0c50-49f0-a10b-aeb4d3384231",
   "metadata": {
    "execution": {
     "iopub.execute_input": "2024-12-12T15:33:04.844660Z",
     "iopub.status.busy": "2024-12-12T15:33:04.843866Z",
     "iopub.status.idle": "2024-12-12T15:35:37.437022Z",
     "shell.execute_reply": "2024-12-12T15:35:37.436365Z",
     "shell.execute_reply.started": "2024-12-12T15:33:04.844622Z"
    }
   },
   "outputs": [
    {
     "name": "stdout",
     "output_type": "stream",
     "text": [
      "Creating session for connection type: SPARK_EMR_SERVERLESS, connection name: emr-s.EMR-new\n",
      "Starting EMR Serverless application 00foknig023pqk09.\n",
      "EMR Serverless application 00foknig023pqk09 is started\n",
      "Starting Spark application\n"
     ]
    },
    {
     "data": {
      "text/html": [
       "\n",
       "                <table class=\"session_info_table\" style=\"width: 75%; margin-top: var(--jp-content-heading-margin-top); margin-bottom:var(--jp-content-heading-margin-bottom); border: var(--jp-border-width) solid var(--jp-border-color2);\">\n",
       "                    <tr>\n",
       "                        <th style=\"text-align: left; border: var(--jp-border-width) solid var(--jp-border-color2);\">Id</th>\n",
       "                        <th style=\"text-align: left; border: var(--jp-border-width) solid var(--jp-border-color2);\">Spark UI</th>\n",
       "                        <th style=\"text-align: left; border: var(--jp-border-width) solid var(--jp-border-color2);\">Driver logs</th>\n",
       "                    </tr>\n",
       "                    <tr>\n",
       "                        <td class=\"application_id\" style=\"word-wrap: break-word; text-align: left; border: var(--jp-border-width) solid var(--jp-border-color2)\">00fol9hfntmi090a</td>\n",
       "                        <td class=\"spark_ui_link\" style=\"word-wrap: break-word; text-align: left; border: var(--jp-border-width) solid var(--jp-border-color2)\"><a href=\"\" target=\"_blank\" log_location=\"https://j-00fol9hfntmi090a.dashboard.emr-serverless.us-east-1.amazonaws.com/?authToken=eDAx87u9sYWkD_HHpcMhHgN2C0Vo7qJNEXatngx4BNreV5711ddqKym8BVGXquIZPT79mWABOMt8bIS7_fGUEp3A86ykS4bABj3QXGgBfcDPopVwfofUbKHdOO-9QOKNquGvNRv4wQYSNXHGucqbEc6yWOFk2C0oTDmfg2vgqHH4zzW0YJPMEsrdbCbyNU_53CAvu5WYzEhuT3IR0GW0LvlCJ4vqnLO1Vhu1Rb_V84f-BVq3zWZSCvSAzt90w39HDQ-b5HLfnYxQSkHNlgfOk9wFCMlTsHgNMgAPlnBDWQrpsJ10muajh3q8urWxnF3HlS18BfPrEX0JBNPUA9d36x-jUJdyeBKm3QNcs1f9R_9XjtWRrMpeArcjbO0qEF3SrxZB4Pp9vKWRMGVWUrT1UscS5uXiAz_YasiQxFxb3EkcaAK8l_mF3jIPEjhUbx-5hhy3dEN1wtK6tneF91uNC99HdOA41LEOTxeqBhW2EnS2U2auxxRo6wXclJws_t4UqnNkZ4dyf8tm8LtkQZtasOV8ATGfdKK3ekQ6asWrNxQm3uX-ePkApIvSFa2af9zxdCBI98B5HCXtTs95h01Tk_gg7WI8kruWVQ_jjGAqdUrx_1L9bl45SYN-gACrydl2smXEJBeZK2A9C_S4tNciXWSAB96zKk-pBKAkMxugMX7m1a57MsHG8jSOPb9ZuZqCNkMSZYCHHfCuJvJRtc7ERqZHq0tiyQara-pBHvsQECb8jPze3HdLO8K5v7HMk0jIQTYSERZ-dWrF6fij0BnqqojGS3r2T4nZTPNSgd_csLsmc-BJZ8pdclZzmf1JLt3F4zsuRmCou89uWNPBF0UW3HhWOPq3QcH8kuvhHrhsnDdBRZ8vNrATfntsrwS-7zUZ40AdfcU-I7pcVldPUcHjOlY_m0MG8t2x-VmHIt0EbeTXywnTPDuoHTLZtbYJqrBYs7h-JQod_8MZfh-p8qbI5Qbp7BqYMACdwQzwOL85fRUz3CxO7QyGvfmAvgsPl0HPu3p_m7S9RSevx0oE0QD91OOzMSQWnthSZh27bc4QbrKDUZ7GDCakFA.eyJraWQiOiJBUUlCQUhnTVJ1MlZyR2FFajR3bTc2dEZqMThGMUsyVFdZbkk4WXpxS0lRamg5YTZHZ0ZIaUNwM3pvVE1aVm5udU41WEkzdERBQUFBb2pDQm53WUpLb1pJaHZjTkFRY0dvSUdSTUlHT0FnRUFNSUdJQmdrcWhraUc5dzBCQndFd0hnWUpZSVpJQVdVREJBRXVNQkVFREltTWY1WUtTZFFRdExWWmJnSUJFSUJiV1V6d0ZTMmgrejRIWmhNY0VsQVBpQ2M4K0p2SFFRV3lVVVlBakorQ0ZlbU9zNExjOEVINFJpVmN0Q21xWEdteFZZeDFDWHZmNVRWcS9Jb0xBT3dRMHlBdDNiSFZqeXRjSFo2Tm54dklCOGdOR0RZL01Ib1d5N3BOZHc9PSJ9\">link</a></td>\n",
       "                        <td class=\"driver_log_link\" style=\"word-wrap: break-word; text-align: left; border: var(--jp-border-width) solid var(--jp-border-color2)\"><a href=\"\" target=\"_blank\" log_location=\"https://j-00fol9hfntmi090a.dashboard.emr-serverless.us-east-1.amazonaws.com/logs/SPARK_DRIVER/stderr.gz?authToken=eDAxmWVVfbUZI3FWKZMjcBhH_1sdoLubKVczcxzazS9191-My5w-9uZfJU6vQS-WiPC2rULLJaulG2EUUNzHOJ57SDJ6PJ9iH8VBNvSm8x1Vc2ruGbamqGtd3W6TJ57r_zO5p18BJDLYXG703ENEUbZdO5yMmsjnN4VPEgTjTuJ0xmVeWenPJGQ9NYTZVY3qUm_zhmM1AdCJKdB059789rwKf_Pri_VxclkCxQANS0QfP-4YfGti5iI4eBDYCbUNvKGMiWt6Ooq_1cqu8iXiRgduh9imvFwPqEdmLYEZMX4PsMQrQMFpeYo9OqQ0Qa_AkK_FnWzR1vTYqpMNcujmSgn0XN_0CyvnwHAkRFu3zZwWuuvNEW3keHeIoLN3js0VD7HQfv3naw2s9vgWa7MCqiviyQur4RyX4VCIBHZlBybNDafpvPoXvsGPhDVCiBwYVN0U6r2pbQ6GzcBB_scRkFiHOnYj0GFDpSHUyv6v3yhL-Nf7iNouXsFRVaGAAQO9RFU0nmWJzGrO_J8xZCRiVyjZ0ZvdZxaDzIBcd3II5LLoJ03R5tbT0yThEjwb-RTo0O2jzN4KzByD7rjWNKIm7Fh2eqxaW0X4sRgg3Lq9BZxKPpS87oS-9NAy4djtW03dn8X3ADiCwTRfHe5gfaS4tiRr0BnPXTVh8yMT6cbw1SY2dP4Q2XFWiSe6MblwgvG3igf9rPXuM_olXzrGf0zAehNTUvHQ6T0YaclPEZg4XURC8maSSSi6eD96cOmht-okOE3Lt3XfLWzvDVixzJei67lrNWU76IUkYVXI6x0p2IXIOG8xcpflCRQxu-HmVac5td6VGLUhmUG261awLGPyz0K3AU5LsdUmNz8sgo0auyW_AwKymPDXdjp1CL4xiiX-i1fny-pZRu-iGBDKsMGVj3fuekl_9huzlnbtp3i-zh1P4qOUl0eOcw6GT2M2jpCRAxau6jmZTCabDF3nLyrQG_PvrNHWHEhG_P_LP9e9-h-FlqCaC4sTXROvYoHQGWysY0vPwZVkJNJgdMHzqWb_t4YZxGrm8L12cIyF82yja1h3nLvIJzQ70g.eyJraWQiOiJBUUlCQUhnTVJ1MlZyR2FFajR3bTc2dEZqMThGMUsyVFdZbkk4WXpxS0lRamg5YTZHZ0h6RkxjTkRXcFNncVQvbmdsVGpuc1lBQUFBb2pDQm53WUpLb1pJaHZjTkFRY0dvSUdSTUlHT0FnRUFNSUdJQmdrcWhraUc5dzBCQndFd0hnWUpZSVpJQVdVREJBRXVNQkVFREN2b3Y3MTZIQThyVDdwVnhnSUJFSUJieUVTWU91MUhBNzRrRTl6TVJmelNxTjUxZWptMUVwbmlaWS9KMm5Hd2xTZlhiRzZGWng0QndGaVRubXlNczhSbmc3OWJ5WUY0L0xQRGZnbXhpSk5Dczc4aEtUdUxmU0JLWmswVWwxbFpHMi93c1lDUUM2OHQ2OENrdFE9PSJ9\">link</a></td>\n",
       "                    </tr>\n",
       "                </table>\n",
       "            "
      ],
      "text/plain": [
       "<IPython.core.display.HTML object>"
      ]
     },
     "metadata": {},
     "output_type": "display_data"
    },
    {
     "data": {
      "application/vnd.jupyter.widget-view+json": {
       "model_id": "",
       "version_major": 2,
       "version_minor": 0
      },
      "text/plain": [
       "FloatProgress(value=0.0, bar_style='info', description='Progress:', layout=Layout(height='25px', width='50%'),…"
      ]
     },
     "metadata": {},
     "output_type": "display_data"
    },
    {
     "name": "stdout",
     "output_type": "stream",
     "text": [
      "SparkSession available as 'spark'.\n",
      "Compute details - Application Id: 00foknig023pqk09\n",
      "\n"
     ]
    },
    {
     "data": {
      "application/vnd.jupyter.widget-view+json": {
       "model_id": "",
       "version_major": 2,
       "version_minor": 0
      },
      "text/plain": [
       "FloatProgress(value=0.0, bar_style='info', description='Progress:', layout=Layout(height='25px', width='50%'),…"
      ]
     },
     "metadata": {},
     "output_type": "display_data"
    },
    {
     "name": "stdout",
     "output_type": "stream",
     "text": [
      "Session created for connection: emr-s.EMR-new.\n"
     ]
    },
    {
     "data": {
      "application/vnd.jupyter.widget-view+json": {
       "model_id": "",
       "version_major": 2,
       "version_minor": 0
      },
      "text/plain": [
       "FloatProgress(value=0.0, bar_style='info', description='Progress:', layout=Layout(height='25px', width='50%'),…"
      ]
     },
     "metadata": {},
     "output_type": "display_data"
    },
    {
     "name": "stdout",
     "output_type": "stream",
     "text": [
      "\n",
      "Connection: emr-s.EMR-new | Run start time: 2024-12-12 15:33:08.187015 | Run duration : 0:02:29.247076s.\n"
     ]
    }
   ],
   "source": [
    "%%pyspark emr-s.EMR-new\n",
    "import pyspark"
   ]
  },
  {
   "cell_type": "code",
   "execution_count": 3,
   "id": "b371bc87-42f3-4b7b-af47-14954e74375d",
   "metadata": {
    "execution": {
     "iopub.execute_input": "2024-12-12T15:47:23.194220Z",
     "iopub.status.busy": "2024-12-12T15:47:23.193940Z",
     "iopub.status.idle": "2024-12-12T15:47:32.903523Z",
     "shell.execute_reply": "2024-12-12T15:47:32.899974Z",
     "shell.execute_reply.started": "2024-12-12T15:47:23.194196Z"
    }
   },
   "outputs": [
    {
     "data": {
      "application/vnd.jupyter.widget-view+json": {
       "model_id": "",
       "version_major": 2,
       "version_minor": 0
      },
      "text/plain": [
       "FloatProgress(value=0.0, bar_style='info', description='Progress:', layout=Layout(height='25px', width='50%'),…"
      ]
     },
     "metadata": {},
     "output_type": "display_data"
    },
    {
     "name": "stderr",
     "output_type": "stream",
     "text": [
      "Unable to run statement for connection: emr-s.EMR-new. Error: 'DataFrame' object has no attribute 'createOrReplacetable'\n",
      "Traceback (most recent call last):\n",
      "  File \"/usr/lib/spark/python/lib/pyspark.zip/pyspark/sql/dataframe.py\", line 3130, in __getattr__\n",
      "    raise AttributeError(\n",
      "AttributeError: 'DataFrame' object has no attribute 'createOrReplacetable'\n",
      "\n"
     ]
    },
    {
     "name": "stdout",
     "output_type": "stream",
     "text": [
      "Connection: emr-s.EMR-new | Run start time: 2024-12-12 15:47:23.679378 | Run duration : 0:00:09.210764s.\n"
     ]
    }
   ],
   "source": [
    "%%pyspark emr-s.EMR-new\n",
    "from pyspark.sql import SparkSession\n",
    "\n",
    "# Step 1: Initialize the SparkSession\n",
    "spark = SparkSession.builder \\\n",
    "    .appName(\"Create and Display Table\") \\\n",
    "    .getOrCreate()\n",
    "\n",
    "# Step 2: Create a DataFrame\n",
    "data = [\n",
    "    (1, \"John Doe\", 30),\n",
    "    (2, \"Jane Smith\", 25),\n",
    "    (3, \"Sam Brown\", 35)\n",
    "]\n",
    "\n",
    "columns = [\"id\", \"name\", \"age\"]\n",
    "\n",
    "df = spark.createDataFrame(data, schema=columns)\n",
    "\n",
    "# Step 3: Create a Temporary Table/View\n",
    "df.createOrReplaceview(\"people\")\n",
    "\n",
    "# Step 4: Query the Table\n",
    "result = spark.sql(\"SELECT * FROM people\")\n",
    "\n",
    "# Step 5: Show the Data\n",
    "result.show()\n",
    "\n",
    "# Step 6 (Optional): Save as a Persistent Table (if required)\n",
    "# Uncomment the following line to save to a Hive table or a database\n",
    "# result.write.saveAsTable(\"people_table\")  # Requires Hive support"
   ]
  },
  {
   "cell_type": "markdown",
   "id": "9a395862-1ae9-44ed-a47c-0a0dea6917e1",
   "metadata": {},
   "source": [
    "\n",
    "# Create a table in Glue Database"
   ]
  },
  {
   "cell_type": "code",
   "execution_count": 5,
   "id": "d8ab2c39-0396-483a-bfd5-1d74f40a686c",
   "metadata": {
    "execution": {
     "iopub.execute_input": "2024-12-12T15:54:10.220280Z",
     "iopub.status.busy": "2024-12-12T15:54:10.219944Z",
     "iopub.status.idle": "2024-12-12T15:54:54.373113Z",
     "shell.execute_reply": "2024-12-12T15:54:54.372265Z",
     "shell.execute_reply.started": "2024-12-12T15:54:10.220244Z"
    }
   },
   "outputs": [
    {
     "data": {
      "application/vnd.jupyter.widget-view+json": {
       "model_id": "",
       "version_major": 2,
       "version_minor": 0
      },
      "text/plain": [
       "FloatProgress(value=0.0, bar_style='info', description='Progress:', layout=Layout(height='25px', width='50%'),…"
      ]
     },
     "metadata": {},
     "output_type": "display_data"
    },
    {
     "name": "stdout",
     "output_type": "stream",
     "text": [
      "+---+----------+---+\n",
      "| id|      name|age|\n",
      "+---+----------+---+\n",
      "|  2|Jane Smith| 25|\n",
      "|  3| Sam Brown| 35|\n",
      "|  1|  John Doe| 30|\n",
      "+---+----------+---+\n"
     ]
    },
    {
     "data": {
      "application/vnd.jupyter.widget-view+json": {
       "model_id": "",
       "version_major": 2,
       "version_minor": 0
      },
      "text/plain": [
       "FloatProgress(value=0.0, bar_style='info', description='Progress:', layout=Layout(height='25px', width='50%'),…"
      ]
     },
     "metadata": {},
     "output_type": "display_data"
    },
    {
     "data": {
      "application/vnd.jupyter.widget-view+json": {
       "model_id": "",
       "version_major": 2,
       "version_minor": 0
      },
      "text/plain": [
       "FloatProgress(value=0.0, bar_style='info', description='Progress:', layout=Layout(height='25px', width='50%'),…"
      ]
     },
     "metadata": {},
     "output_type": "display_data"
    },
    {
     "data": {
      "application/vnd.jupyter.widget-view+json": {
       "model_id": "",
       "version_major": 2,
       "version_minor": 0
      },
      "text/plain": [
       "FloatProgress(value=0.0, bar_style='info', description='Progress:', layout=Layout(height='25px', width='50%'),…"
      ]
     },
     "metadata": {},
     "output_type": "display_data"
    },
    {
     "name": "stdout",
     "output_type": "stream",
     "text": [
      "\n"
     ]
    },
    {
     "data": {
      "application/vnd.jupyter.widget-view+json": {
       "model_id": "",
       "version_major": 2,
       "version_minor": 0
      },
      "text/plain": [
       "FloatProgress(value=0.0, bar_style='info', description='Progress:', layout=Layout(height='25px', width='50%'),…"
      ]
     },
     "metadata": {},
     "output_type": "display_data"
    },
    {
     "name": "stdout",
     "output_type": "stream",
     "text": [
      "Connection: emr-s.EMR-new | Run start time: 2024-12-12 15:54:10.772556 | Run duration : 0:00:43.597312s.\n"
     ]
    }
   ],
   "source": [
    "%%pyspark emr-s.EMR-new\n",
    "from pyspark.sql import SparkSession\n",
    "\n",
    "# Step 1: Initialize the SparkSession\n",
    "spark = SparkSession.builder \\\n",
    "    .appName(\"Create and Display Glue Table\") \\\n",
    "    .config(\"spark.sql.catalogImplementation\", \"hive\") \\\n",
    "    .enableHiveSupport() \\\n",
    "    .getOrCreate()\n",
    "\n",
    "# Step 2: Create a DataFrame\n",
    "data = [\n",
    "    (1, \"John Doe\", 30),\n",
    "    (2, \"Jane Smith\", 25),\n",
    "    (3, \"Sam Brown\", 35)\n",
    "]\n",
    "\n",
    "columns = [\"id\", \"name\", \"age\"]\n",
    "\n",
    "df = spark.createDataFrame(data, schema=columns)\n",
    "\n",
    "# Step 3: Write the DataFrame to a Glue table (using Hive Metastore)\n",
    "# Specify the Glue database and table name\n",
    "glue_database = \"glue_db_ctlqiab0vrcso7\"  # Replace with your Glue database name\n",
    "glue_table = \"demographics\"\n",
    "\n",
    "# Step 4: Write the DataFrame to the Glue catalog\n",
    "df.write \\\n",
    "    .format(\"parquet\") \\\n",
    "    .mode(\"overwrite\") \\\n",
    "    .saveAsTable(f\"{glue_database}.{glue_table}\")\n",
    "\n",
    "# Step 5: Query the Glue table\n",
    "result = spark.sql(f\"SELECT * FROM {glue_database}.{glue_table}\")\n",
    "\n",
    "# Step 6: Show the Data\n",
    "result.show()\n"
   ]
  },
  {
   "cell_type": "markdown",
   "id": "fc666aef-3985-4db4-8366-c39db7a54a67",
   "metadata": {
    "execution": {
     "iopub.execute_input": "2024-12-12T16:27:40.016624Z",
     "iopub.status.busy": "2024-12-12T16:27:40.016325Z"
    }
   },
   "source": [
    "\n",
    "# Create a Iceberg table"
   ]
  },
  {
   "cell_type": "code",
   "execution_count": 2,
   "id": "2791ac59-571a-4137-b17f-d9161f9e2545",
   "metadata": {
    "execution": {
     "iopub.execute_input": "2024-12-12T16:30:29.046199Z",
     "iopub.status.busy": "2024-12-12T16:30:29.045950Z",
     "iopub.status.idle": "2024-12-12T16:31:26.817248Z",
     "shell.execute_reply": "2024-12-12T16:31:26.815540Z",
     "shell.execute_reply.started": "2024-12-12T16:30:29.046169Z"
    }
   },
   "outputs": [
    {
     "data": {
      "application/vnd.jupyter.widget-view+json": {
       "model_id": "",
       "version_major": 2,
       "version_minor": 0
      },
      "text/plain": [
       "FloatProgress(value=0.0, bar_style='info', description='Progress:', layout=Layout(height='25px', width='50%'),…"
      ]
     },
     "metadata": {},
     "output_type": "display_data"
    },
    {
     "name": "stdout",
     "output_type": "stream",
     "text": [
      "+---+----------+---+\n",
      "| id|      name|age|\n",
      "+---+----------+---+\n",
      "|  1|  John Doe| 30|\n",
      "|  2|Jane Smith| 25|\n",
      "|  3| Sam Brown| 35|\n",
      "+---+----------+---+\n"
     ]
    },
    {
     "data": {
      "application/vnd.jupyter.widget-view+json": {
       "model_id": "",
       "version_major": 2,
       "version_minor": 0
      },
      "text/plain": [
       "FloatProgress(value=0.0, bar_style='info', description='Progress:', layout=Layout(height='25px', width='50%'),…"
      ]
     },
     "metadata": {},
     "output_type": "display_data"
    },
    {
     "data": {
      "application/vnd.jupyter.widget-view+json": {
       "model_id": "",
       "version_major": 2,
       "version_minor": 0
      },
      "text/plain": [
       "FloatProgress(value=0.0, bar_style='info', description='Progress:', layout=Layout(height='25px', width='50%'),…"
      ]
     },
     "metadata": {},
     "output_type": "display_data"
    },
    {
     "data": {
      "application/vnd.jupyter.widget-view+json": {
       "model_id": "",
       "version_major": 2,
       "version_minor": 0
      },
      "text/plain": [
       "FloatProgress(value=0.0, bar_style='info', description='Progress:', layout=Layout(height='25px', width='50%'),…"
      ]
     },
     "metadata": {},
     "output_type": "display_data"
    },
    {
     "name": "stdout",
     "output_type": "stream",
     "text": [
      "\n"
     ]
    },
    {
     "data": {
      "application/vnd.jupyter.widget-view+json": {
       "model_id": "",
       "version_major": 2,
       "version_minor": 0
      },
      "text/plain": [
       "FloatProgress(value=0.0, bar_style='info', description='Progress:', layout=Layout(height='25px', width='50%'),…"
      ]
     },
     "metadata": {},
     "output_type": "display_data"
    },
    {
     "name": "stdout",
     "output_type": "stream",
     "text": [
      "Connection: emr-s.EMR-new | Run start time: 2024-12-12 16:30:29.470074 | Run duration : 0:00:57.338123s.\n"
     ]
    }
   ],
   "source": [
    "%%pyspark emr-s.EMR-new\n",
    "from pyspark.sql import SparkSession\n",
    "\n",
    "# Step 1: Initialize the SparkSession\n",
    "spark = SparkSession.builder \\\n",
    "    .appName(\"Create and Display Glue Iceberg Table\") \\\n",
    "    .config(\"spark.sql.catalogImplementation\", \"hive\") \\\n",
    "    .config(\"spark.sql.catalog.glue\", \"org.apache.iceberg.spark.SparkCatalog\") \\\n",
    "    .config(\"spark.sql.catalog.glue.catalog-impl\", \"org.apache.iceberg.aws.glue.GlueCatalog\") \\\n",
    "    .config(\"spark.sql.catalog.glue.warehouse\", \"s3://sagemaker-data-studio-tutorials-1/demographics_iceberg/\") \\\n",
    "    .enableHiveSupport() \\\n",
    "    .getOrCreate()\n",
    "\n",
    "# Step 2: Create a DataFrame\n",
    "data = [\n",
    "    (1, \"John Doe\", 30),\n",
    "    (2, \"Jane Smith\", 25),\n",
    "    (3, \"Sam Brown\", 35)\n",
    "]\n",
    "\n",
    "columns = [\"id\", \"name\", \"age\"]\n",
    "\n",
    "df = spark.createDataFrame(data, schema=columns)\n",
    "\n",
    "# Step 3: Write the DataFrame to an Iceberg table\n",
    "glue_database = \"your_glue_db\"  # Replace with your Glue database name\n",
    "glue_table = \"demographics_iceberg_tbl\"\n",
    "\n",
    "# Step 4: Write the DataFrame to the Glue catalog as an Iceberg table\n",
    "df.write \\\n",
    "    .format(\"iceberg\") \\\n",
    "    .mode(\"overwrite\") \\\n",
    "    .saveAsTable(f\"glue.{glue_database}.{glue_table}\")\n",
    "\n",
    "# Step 5: Query the Iceberg table\n",
    "result = spark.sql(f\"SELECT * FROM glue.{glue_database}.{glue_table}\")\n",
    "\n",
    "# Step 6: Show the Data\n",
    "result.show()\n"
   ]
  },
  {
   "cell_type": "code",
   "execution_count": null,
   "id": "8fad5f34-0bc7-4fd9-9be1-a5bd1e7a27a6",
   "metadata": {},
   "outputs": [],
   "source": [
    "%%pyspark emr-s.EMR-new\n"
   ]
  }
 ],
 "metadata": {
  "kernelspec": {
   "display_name": "Python 3 (ipykernel)",
   "language": "python",
   "name": "python3"
  },
  "language_info": {
   "codemirror_mode": {
    "name": "ipython",
    "version": 3
   },
   "file_extension": ".py",
   "mimetype": "text/x-python",
   "name": "python",
   "nbconvert_exporter": "python",
   "pygments_lexer": "ipython3",
   "version": "3.11.10"
  }
 },
 "nbformat": 4,
 "nbformat_minor": 5
}
