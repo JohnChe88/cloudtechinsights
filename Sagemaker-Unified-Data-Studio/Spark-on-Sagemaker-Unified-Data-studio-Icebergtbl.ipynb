{
 "cells": [
  {
   "cell_type": "code",
   "execution_count": null,
   "id": "df1c3dab-0c50-49f0-a10b-aeb4d3384231",
   "metadata": {},
   "outputs": [],
   "source": [
    "%%pyspark emr-s.EMR-new\n",
    "import pyspark"
   ]
  },
  {
   "cell_type": "code",
   "execution_count": null,
   "id": "b371bc87-42f3-4b7b-af47-14954e74375d",
   "metadata": {},
   "outputs": [],
   "source": [
    "%%pyspark emr-s.EMR-new\n",
    "from pyspark.sql import SparkSession\n",
    "\n",
    "# Step 1: Initialize the SparkSession\n",
    "spark = SparkSession.builder \\\n",
    "    .appName(\"Create and Display Table\") \\\n",
    "    .getOrCreate()\n",
    "\n",
    "# Step 2: Create a DataFrame\n",
    "data = [\n",
    "    (1, \"John Doe\", 30),\n",
    "    (2, \"Jane Smith\", 25),\n",
    "    (3, \"Sam Brown\", 35)\n",
    "]\n",
    "\n",
    "columns = [\"id\", \"name\", \"age\"]\n",
    "\n",
    "df = spark.createDataFrame(data, schema=columns)\n",
    "\n",
    "# Step 3: Create a Temporary Table/View\n",
    "df.createOrReplaceview(\"people\")\n",
    "\n",
    "# Step 4: Query the Table\n",
    "result = spark.sql(\"SELECT * FROM people\")\n",
    "\n",
    "# Step 5: Show the Data\n",
    "result.show()\n",
    "\n",
    "# Step 6 (Optional): Save as a Persistent Table (if required)\n",
    "# Uncomment the following line to save to a Hive table or a database\n",
    "# result.write.saveAsTable(\"people_table\")  # Requires Hive support"
   ]
  },
  {
   "cell_type": "markdown",
   "id": "9a395862-1ae9-44ed-a47c-0a0dea6917e1",
   "metadata": {},
   "source": [
    "\n",
    "# Create a table in Glue Database"
   ]
  },
  {
   "cell_type": "code",
   "execution_count": null,
   "id": "d8ab2c39-0396-483a-bfd5-1d74f40a686c",
   "metadata": {},
   "outputs": [],
   "source": [
    "%%pyspark emr-s.EMR-new\n",
    "from pyspark.sql import SparkSession\n",
    "\n",
    "# Step 1: Initialize the SparkSession\n",
    "spark = SparkSession.builder \\\n",
    "    .appName(\"Create and Display Iceberg Table\") \\\n",
    "    .config(\"spark.sql.catalogImplementation\", \"hive\") \\\n",
    "    .enableHiveSupport() \\\n",
    "    .getOrCreate()\n",
    "\n",
    "# Step 2: Create a DataFrame\n",
    "data = [\n",
    "    (1, \"John Doe\", 30),\n",
    "    (2, \"Jane Smith\", 25),\n",
    "    (3, \"Sam Brown\", 35)\n",
    "]\n",
    "\n",
    "columns = [\"id\", \"name\", \"age\"]\n",
    "\n",
    "df = spark.createDataFrame(data, schema=columns)\n",
    "\n",
    "# Step 3: Write the DataFrame to a Glue table (using Hive Metastore)\n",
    "# Specify the Glue database and table name\n",
    "glue_database = \"glue_db\"  # Replace with your Glue database name\n",
    "glue_table = \"demographics\"\n",
    "\n",
    "# Step 4: Write the DataFrame to the Glue catalog\n",
    "df.write \\\n",
    "    .format(\"parquet\") \\\n",
    "    .mode(\"overwrite\") \\\n",
    "    .saveAsTable(f\"{glue_database}.{glue_table}\")\n",
    "\n",
    "# Step 5: Query the Glue table\n",
    "result = spark.sql(f\"SELECT * FROM {glue_database}.{glue_table}\")\n",
    "\n",
    "# Step 6: Show the Data\n",
    "result.show()\n"
   ]
  },
  {
   "cell_type": "code",
   "execution_count": null,
   "id": "2791ac59-571a-4137-b17f-d9161f9e2545",
   "metadata": {},
   "outputs": [],
   "source": [
    "%%pyspark emr-s.EMR-new\n",
    "from pyspark.sql import SparkSession\n",
    "\n",
    "# Step 1: Initialize the SparkSession\n",
    "spark = SparkSession.builder \\\n",
    "    .appName(\"Create and Display Glue Iceberg Table\") \\\n",
    "    .config(\"spark.sql.catalogImplementation\", \"hive\") \\\n",
    "    .config(\"spark.sql.catalog.glue\", \"org.apache.iceberg.spark.SparkCatalog\") \\\n",
    "    .config(\"spark.sql.catalog.glue.catalog-impl\", \"org.apache.iceberg.aws.glue.GlueCatalog\") \\\n",
    "    .config(\"spark.sql.catalog.glue.warehouse\", \"s3://sagemaker-data-studio-tutorial/demographics_iceberg/\") \\ #u\n",
    "    .enableHiveSupport() \\\n",
    "    .getOrCreate()\n",
    "\n",
    "# Step 2: Create a DataFrame\n",
    "data = [\n",
    "    (1, \"John Doe\", 30),\n",
    "    (2, \"Jane Smith\", 25),\n",
    "    (3, \"Sam Brown\", 35)\n",
    "]\n",
    "\n",
    "columns = [\"id\", \"name\", \"age\"]\n",
    "\n",
    "df = spark.createDataFrame(data, schema=columns)\n",
    "\n",
    "# Step 3: Write the DataFrame to an Iceberg table\n",
    "glue_database = \"glue_db\"  # Replace with your Glue database name\n",
    "glue_table = \"demographics_iceberg_tbl\"\n",
    "\n",
    "# Step 4: Write the DataFrame to the Glue catalog as an Iceberg table\n",
    "df.write \\\n",
    "    .format(\"iceberg\") \\\n",
    "    .mode(\"overwrite\") \\\n",
    "    .saveAsTable(f\"glue.{glue_database}.{glue_table}\")\n",
    "\n",
    "# Step 5: Query the Iceberg table\n",
    "result = spark.sql(f\"SELECT * FROM glue.{glue_database}.{glue_table}\")\n",
    "\n",
    "# Step 6: Show the Data\n",
    "result.show()\n"
   ]
  },
  {
   "cell_type": "code",
   "execution_count": null,
   "id": "8fad5f34-0bc7-4fd9-9be1-a5bd1e7a27a6",
   "metadata": {},
   "outputs": [],
   "source": [
    "%%pyspark emr-s.EMR-new\n"
   ]
  }
 ],
 "metadata": {
  "kernelspec": {
   "display_name": "Python 3 (ipykernel)",
   "language": "python",
   "name": "python3"
  },
  "language_info": {
   "codemirror_mode": {
    "name": "ipython",
    "version": 3
   },
   "file_extension": ".py",
   "mimetype": "text/x-python",
   "name": "python",
   "nbconvert_exporter": "python",
   "pygments_lexer": "ipython3",
   "version": "3.11.10"
  }
 },
 "nbformat": 4,
 "nbformat_minor": 5
}
